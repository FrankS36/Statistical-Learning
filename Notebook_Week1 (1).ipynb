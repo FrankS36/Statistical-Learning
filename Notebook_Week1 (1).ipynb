{
 "cells": [
  {
   "cell_type": "markdown",
   "metadata": {
    "id": "na3XXQqwxk4n"
   },
   "source": [
    "# **Concepts Covered:**\n",
    "\n",
    "- <a href = #link1>Binomial Distribution</a>\n",
    "- <a href = #link2>Uniform Distribution</a>\n",
    "- <a href = #link3>Normal Distribution</a>\n",
    "- <a href = #link4>Central Limit Theorem (CLT)</a>\n",
    "- <a href = #link5>Point Estimation</a>\n",
    "- <a href = #link6>Confidence Interval</a>\n",
    "\n",
    "\n",
    "\n",
    "\n"
   ]
  },
  {
   "cell_type": "markdown",
   "metadata": {
    "id": "Lc9FElXElv_G"
   },
   "source": [
    "# <a name='link1'>**Binomial Distribution**</a>"
   ]
  },
  {
   "cell_type": "markdown",
   "metadata": {
    "id": "akluEr_i2s6H"
   },
   "source": [
    "### Problem statement \n",
    "80% of all the visitors to Lavista Museum end up buying souvenirs from the souvenir shop at the Museum. On the coming Sunday, if a random sample of 10 visitors is picked\n",
    "\n",
    " 1. Find the probability that every visitor will end up buying from the souvenir shop\n",
    " 2. Find the probability that a maximum of 7 visitors will buy souvenirs from the souvenir shop\n",
    "\n",
    "Let's check first whether we satisfy the assumptions of the binomial distribution.\n",
    "*  There are only two possible outcomes (success or failure) for each trial – A visitor will buy souvenirs from the souvenir shop or not (yes or no).\n",
    "* Number of trials (n) is fixed - There are 10 visitors in the sample.\n",
    "* Each trial is independent of the other trials - It is reasonable to assume that the buying activity of visitors are independent.\n",
    "* The probability of success (p) is the same for each trial - The probability of success for each visitor is 0.8."
   ]
  },
  {
   "cell_type": "markdown",
   "metadata": {
    "id": "ai6e1N6TF_CH"
   },
   "source": [
    "### Let's import the libraries "
   ]
  },
  {
   "cell_type": "code",
   "execution_count": 1,
   "metadata": {
    "id": "aYQeekfS3tc3"
   },
   "outputs": [],
   "source": [
    "# import the important packages\n",
    "import pandas as pd  # library used for data manipulation and analysis\n",
    "import numpy as np  # library used for working with arrays.\n",
    "import matplotlib.pyplot as plt  # library for plots and visualisations\n",
    "import seaborn as sns  # library for visualisations\n",
    "\n",
    "%matplotlib inline\n",
    "\n",
    "import scipy.stats as stats  # this library contains a large number of probability distributions as well as a growing library of statistical functions."
   ]
  },
  {
   "cell_type": "markdown",
   "metadata": {
    "id": "ShfWrUOZUST6"
   },
   "source": [
    "### Let's estimate the probability distribution of visitors"
   ]
  },
  {
   "cell_type": "code",
   "execution_count": 2,
   "metadata": {
    "id": "Hx9QgtUmCo6X"
   },
   "outputs": [],
   "source": [
    "# declare the sample size in variable n which represents the number of visitors selected randomly\n",
    "n = 10"
   ]
  },
  {
   "cell_type": "code",
   "execution_count": 3,
   "metadata": {
    "id": "KYXCeHT1DNzD"
   },
   "outputs": [],
   "source": [
    "# declare p which represents the probability of success, i.e., the probability that a visitor will end up buying souvenir\n",
    "p = 0.80"
   ]
  },
  {
   "cell_type": "code",
   "execution_count": 4,
   "metadata": {
    "colab": {
     "base_uri": "https://localhost:8080/"
    },
    "id": "erPch6FYDT5D",
    "outputId": "68d01f3d-f9f8-486e-b1c7-61cf07f2a370"
   },
   "outputs": [
    {
     "data": {
      "text/plain": [
       "array([ 0,  1,  2,  3,  4,  5,  6,  7,  8,  9, 10])"
      ]
     },
     "execution_count": 4,
     "metadata": {},
     "output_type": "execute_result"
    }
   ],
   "source": [
    "# declare different possible number of visitors selected in a numpy array\n",
    "k = np.arange(0,11)\n",
    "k"
   ]
  },
  {
   "cell_type": "markdown",
   "metadata": {
    "id": "_SPeCd1AHEY9"
   },
   "source": [
    "The probability function of Binomial Distribution provides the probability for  x  number of successes from n trials where  p is the probability of success   \n",
    "\n",
    ">$P(X=x)= {n\\choose x}p^x(1-p)^{n-x}$\n",
    "\n",
    "\n",
    "Here, we know that:\n",
    "\n",
    "* n  ( number of visitors selected randomly ) = 10\n",
    "* p ( probability of success i.e., the probability that a visitor will end up buying souvenir) = 0.80\n",
    "* q ( probability of failure i.e., the probability that a visitor will not end up buying souvenir) = 1 - 0.80 = 0.20\n",
    "* x ( number of successes ) = 10\n",
    "\n",
    "\n",
    "We will use binom.pmf() to calculate this probability function which provides the probability for the number of visitors (out of n=10) that will end up buying souvenirs from the souvenir shop."
   ]
  },
  {
   "cell_type": "code",
   "execution_count": 5,
   "metadata": {
    "id": "c9ROgUQTDetd"
   },
   "outputs": [],
   "source": [
    "# import the required function\n",
    "from scipy.stats import binom\n",
    "\n",
    "#"
   ]
  },
  {
   "cell_type": "code",
   "execution_count": 6,
   "metadata": {},
   "outputs": [],
   "source": [
    "#use the binom.pmf() function to generate the probability distribution\n",
    "binomial = binom.pmf(k=k, n=n, p=p)"
   ]
  },
  {
   "cell_type": "code",
   "execution_count": 7,
   "metadata": {
    "colab": {
     "base_uri": "https://localhost:8080/"
    },
    "id": "to7lvEKCD7Aj",
    "outputId": "45f584ba-90d8-4475-ecf4-b973ccb8675a"
   },
   "outputs": [
    {
     "data": {
      "text/plain": [
       "array([1.02400000e-07, 4.09600000e-06, 7.37280000e-05, 7.86432000e-04,\n",
       "       5.50502400e-03, 2.64241152e-02, 8.80803840e-02, 2.01326592e-01,\n",
       "       3.01989888e-01, 2.68435456e-01, 1.07374182e-01])"
      ]
     },
     "execution_count": 7,
     "metadata": {},
     "output_type": "execute_result"
    }
   ],
   "source": [
    "binomial"
   ]
  },
  {
   "cell_type": "markdown",
   "metadata": {
    "id": "tGF_ynBaISnE"
   },
   "source": [
    "As you can see **binomial** is the array of probabilities for different number of successes. Let us visualize the same in the following plot."
   ]
  },
  {
   "cell_type": "code",
   "execution_count": 8,
   "metadata": {
    "colab": {
     "base_uri": "https://localhost:8080/",
     "height": 297
    },
    "id": "V1ogSei5D7Ik",
    "outputId": "c1dbba93-7b24-4449-ba4c-f077a5893756"
   },
   "outputs": [
    {
     "data": {
      "image/png": "[encoded data removed]",
      "text/plain": [
       "<Figure size 432x288 with 1 Axes>"
      ]
     },
     "metadata": {
      "needs_background": "light"
     },
     "output_type": "display_data"
    }
   ],
   "source": [
    "# plot the distribution\n",
    "plt.bar(k, binomial)\n",
    "plt.title(\"Binomial: n=%i , p=%.2f\" % (n, p), fontsize=15)\n",
    "plt.xlabel(\"Number of Successes\")\n",
    "plt.ylabel(\"Probability of Successes\")\n",
    "plt.show()"
   ]
  },
  {
   "cell_type": "markdown",
   "metadata": {
    "id": "_ueGwQYmIrL_"
   },
   "source": [
    "The last element of this **binomial** array represents the probability when the number of successes is 10 ( which means that the 10 visitors (out of 10 selected randomly ) will buy souvenirs from the souvenir shop)"
   ]
  },
  {
   "cell_type": "code",
   "execution_count": 9,
   "metadata": {
    "colab": {
     "base_uri": "https://localhost:8080/"
    },
    "id": "lvhb5VYoEiDO",
    "outputId": "c3fb324d-b6f9-4e81-cada-2cfc3f355cb9"
   },
   "outputs": [
    {
     "name": "stdout",
     "output_type": "stream",
     "text": [
      "What is the chance that a randomly selected group all purchases?\n",
      "\n",
      "How many people? \n"
     ]
    },
    {
     "ename": "ValueError",
     "evalue": "invalid literal for int() with base 10: ''",
     "output_type": "error",
     "traceback": [
      "\u001b[1;31m---------------------------------------------------------------------------\u001b[0m",
      "\u001b[1;31mValueError\u001b[0m                                Traceback (most recent call last)",
      "\u001b[1;32mC:\\Users\\FRANK_~1\\AppData\\Local\\Temp/ipykernel_14208/1917476701.py\u001b[0m in \u001b[0;36m<module>\u001b[1;34m\u001b[0m\n\u001b[0;32m      5\u001b[0m \u001b[0mprint\u001b[0m\u001b[1;33m(\u001b[0m\u001b[1;34m\"What is the chance that a randomly selected group all purchases?\"\u001b[0m\u001b[1;33m)\u001b[0m\u001b[1;33m\u001b[0m\u001b[1;33m\u001b[0m\u001b[0m\n\u001b[0;32m      6\u001b[0m \u001b[0mprint\u001b[0m\u001b[1;33m(\u001b[0m\u001b[1;34m\"\"\u001b[0m\u001b[1;33m)\u001b[0m\u001b[1;33m\u001b[0m\u001b[1;33m\u001b[0m\u001b[0m\n\u001b[1;32m----> 7\u001b[1;33m \u001b[0mnum_ppl\u001b[0m \u001b[1;33m=\u001b[0m \u001b[0mint\u001b[0m\u001b[1;33m(\u001b[0m\u001b[0minput\u001b[0m\u001b[1;33m(\u001b[0m\u001b[1;34m\"How many people? \"\u001b[0m\u001b[1;33m)\u001b[0m\u001b[1;33m)\u001b[0m\u001b[1;33m\u001b[0m\u001b[1;33m\u001b[0m\u001b[0m\n\u001b[0m\u001b[0;32m      8\u001b[0m \u001b[1;33m\u001b[0m\u001b[0m\n\u001b[0;32m      9\u001b[0m \u001b[0mprint\u001b[0m\u001b[1;33m(\u001b[0m\u001b[1;34m\"The chance that num_ppl randomly selected people all buy is\"\u001b[0m\u001b[1;33m,\u001b[0m \u001b[1;34m\"{:.2%}\"\u001b[0m\u001b[1;33m.\u001b[0m\u001b[0mformat\u001b[0m\u001b[1;33m(\u001b[0m\u001b[0mbinomial\u001b[0m\u001b[1;33m[\u001b[0m\u001b[0mnum_ppl\u001b[0m\u001b[1;33m]\u001b[0m\u001b[1;33m)\u001b[0m\u001b[1;33m)\u001b[0m\u001b[1;33m\u001b[0m\u001b[1;33m\u001b[0m\u001b[0m\n",
      "\u001b[1;31mValueError\u001b[0m: invalid literal for int() with base 10: ''"
     ]
    }
   ],
   "source": [
    "# we can enter the number that we are concerned with\n",
    "# binomial[10] answers the question:\n",
    "# what is the chance that 10 people who are selected buy? \n",
    "\n",
    "print(\"What is the chance that a randomly selected group all purchases?\")\n",
    "print(\"\")\n",
    "num_ppl = int(input(\"How many people? \"))\n",
    "\n",
    "print(\"The chance that num_ppl randomly selected people all buy is\", \"{:.2%}\".format(binomial[num_ppl]))\n"
   ]
  },
  {
   "cell_type": "markdown",
   "metadata": {
    "id": "WmjpVsHNIY8L"
   },
   "source": [
    "The above probability shows that the probability of exactly 10 successes is  ~ 0.11.\n",
    "\n",
    " Now, we are interested in knowing the probability of at most 7 successes which means what is the probability that out of 10 randomly selected visitors, a maximum of 7 visitors will buy souvenirs from the souvenir shop.\n",
    "\n",
    "Here, we need to calculate the probability for P(X<=7). CDF is used to calculate the cumulative probability.\n",
    "\n",
    "\n",
    "\n",
    "**CDF:** of a Random variable(X) is the probability that X  will take the value less than or equal to x. It can be represented mathematically as below.\n",
    "\n",
    ">$F_X(x) = P(X\\leq x)$\n",
    "\n",
    "In our case, Random Variable(X) is the number of visitors who will buy souvenirs from the souvenir shop.\n",
    "\n",
    "$P(X\\leq 7)$\n",
    "\n"
   ]
  },
  {
   "cell_type": "code",
   "execution_count": 10,
   "metadata": {
    "colab": {
     "base_uri": "https://localhost:8080/",
     "height": 297
    },
    "id": "5KCXHQNUghBI",
    "outputId": "26973f52-3684-46fd-c139-b96766f6ad19"
   },
   "outputs": [
    {
     "data": {
      "image/png": "[encoded data removed]",
      "text/plain": [
       "<Figure size 432x288 with 1 Axes>"
      ]
     },
     "metadata": {
      "needs_background": "light"
     },
     "output_type": "display_data"
    }
   ],
   "source": [
    "# plot the probability distribution\n",
    "# We are plotting the distributions here to better visualize the calculations.\n",
    "# Of course you do not 'need' to create the following visualization to answer the question above.\n",
    "# You can directly use the cdf function for probability calculations.\n",
    "barl = plt.bar(k, binomial)\n",
    "plt.title(\"Binomial: n=%i , p=%.2f\" % (n, p), fontsize=15)\n",
    "plt.xlabel(\"Number of Successes\")\n",
    "plt.ylabel(\"Probability of Successes\")\n",
    "for i in range(0, 8):\n",
    "    barl[i].set_color(\"r\")\n",
    "plt.show()"
   ]
  },
  {
   "cell_type": "markdown",
   "metadata": {
    "id": "zmYRVcQsgo7e"
   },
   "source": [
    "In the above graph, red region represent P(X<=7).\n",
    "Let's calculate the probability that out of 10 randomly selected visitors, a maximum of 7 will buy souvenirs from the souvenir shop. We will use binom.cdf() for this.\n",
    "\n",
    "### We can see that CDF adds up all of the probabilities highlighted in red"
   ]
  },
  {
   "cell_type": "code",
   "execution_count": 11,
   "metadata": {
    "colab": {
     "base_uri": "https://localhost:8080/"
    },
    "id": "ijlJm_BGJec0",
    "outputId": "c70b5d6f-cf92-4a17-f13f-747f6dc2e95a"
   },
   "outputs": [
    {
     "name": "stdout",
     "output_type": "stream",
     "text": [
      "32.22%\n"
     ]
    },
    {
     "data": {
      "text/plain": [
       "0.6777995264000001"
      ]
     },
     "execution_count": 11,
     "metadata": {},
     "output_type": "execute_result"
    }
   ],
   "source": [
    "# calculate cdf\n",
    "# cdf gives us \n",
    "print(\"{:.2%}\".format(binom.cdf(k=7, n=n, p=p)))\n",
    "\n",
    "binom.cdf(k=7, n=n, p=p)\n",
    "\n",
    "# chance that >= 8\n",
    "# we just use 1 - cdf\n",
    "# in the following, we are asking what are the chances of at least 7 sales: \n",
    "\n",
    "1 - binom.cdf(k=7, n=n, p=p)"
   ]
  },
  {
   "cell_type": "markdown",
   "metadata": {
    "id": "0UlaBxDXEioT"
   },
   "source": [
    "### Conclusion: \n",
    "\n",
    "There is 10.74% chance that every visitor will end up buying souvenirs from the souvenir shop.\n",
    "\n",
    "There is 32.22% chance that a maximum of 7 visitors out of 10 will buy souvenirs from the souvenir shop."
   ]
  },
  {
   "cell_type": "markdown",
   "metadata": {
    "id": "3yuNgVeW2tbn"
   },
   "source": [
    "Let's try to change the probability of success (probability that each visitor will buy souvenirs from the souvenir shop) to different values like 60%,70%,90%,95% and visualize how the shape of the distribution changes.\n"
   ]
  },
  {
   "cell_type": "code",
   "execution_count": 21,
   "metadata": {
    "colab": {
     "base_uri": "https://localhost:8080/",
     "height": 297
    },
    "id": "m83o5m7Tleke",
    "outputId": "314a71fb-e32d-4dc7-a311-574a759394d8"
   },
   "outputs": [
    {
     "data": {
      "image/png": "[encoded data removed]",
      "text/plain": [
       "<Figure size 1080x288 with 3 Axes>"
      ]
     },
     "metadata": {
      "needs_background": "light"
     },
     "output_type": "display_data"
    }
   ],
   "source": [
    "plt.figure(figsize=(15, 4))\n",
    "\n",
    "plt.subplot(131)\n",
    "binomial_70 = binom.pmf(k, n, p=0.7)\n",
    "\n",
    "# plot the distribution of the same\n",
    "plt.bar(k, binomial_70)\n",
    "plt.title(\"p=%.2f\" % (0.7), fontsize=20)\n",
    "plt.xlabel(\"Number of Successes\")\n",
    "plt.ylabel(\"Probability of Successes\")\n",
    "\n",
    "plt.subplot(132)\n",
    "binomial_80 = binom.pmf(k, n, p=0.8)\n",
    "\n",
    "# plot the distribution of the same\n",
    "plt.bar(k, binomial_80)\n",
    "plt.title(\"p=%.2f\" % (0.8), fontsize=20)\n",
    "plt.xlabel(\"Number of Successes\")\n",
    "plt.ylabel(\"Probability of Successes\")\n",
    "\n",
    "plt.subplot(133)\n",
    "binomial_90 = binom.pmf(k, n, p=0.9)\n",
    "\n",
    "# plot the distribution of the same\n",
    "plt.bar(k, binomial_90)\n",
    "plt.title(\"p=%.2f\" % (0.9), fontsize=20)\n",
    "plt.xlabel(\"Number of Successes\")\n",
    "plt.ylabel(\"Probability of Successes\")\n",
    "\n",
    "plt.tight_layout(w_pad=5)"
   ]
  },
  {
   "cell_type": "markdown",
   "metadata": {
    "id": "-eqlw5Nspaij"
   },
   "source": [
    "### Conclusion:\n",
    "\n",
    "It is clear from the above plot that the shape of the distribution changes as the value of p (probability of success) changes.\n",
    "\n",
    "#### We can see that the higher probability shifts the distro to the right, which makes sense because we are moving towards 100% chance of success (person buys in this case)"
   ]
  },
  {
   "cell_type": "markdown",
   "metadata": {
    "id": "Fnh7bNt1pUBD"
   },
   "source": [
    "# <a name='link2'>**Uniform Distribution**</a>"
   ]
  },
  {
   "cell_type": "markdown",
   "metadata": {
    "id": "aMIXOHNFteBr"
   },
   "source": [
    "### Discrete Uniform Distribution "
   ]
  },
  {
   "cell_type": "markdown",
   "metadata": {
    "id": "Yi4ZpNnytiAn"
   },
   "source": [
    "### Problem statement\n",
    "\n",
    "Number of books sold by a bookseller per day is given in 'bookseller.csv'.\n",
    "\n",
    "Let\n",
    "\n",
    "X =  Number of books sold by a bookseller per day\n",
    "\n",
    "X is a Discrete Random variable (because it represent the books count). Let's see the distribution of X and answer the below questions.\n",
    "\n",
    "\n",
    "1. Find the probability that more than (or equal to) 96 books will be sold on a given day\n",
    "2. Find the probability that less than (or equal to) 92 books will be sold on a given day"
   ]
  },
  {
   "cell_type": "markdown",
   "metadata": {
    "id": "-SoTo4A-Vtg5"
   },
   "source": [
    "### Reading the Data into the Dataframe"
   ]
  },
  {
   "cell_type": "code",
   "execution_count": 17,
   "metadata": {
    "colab": {
     "base_uri": "https://localhost:8080/",
     "height": 204
    },
    "id": "XAW3-fXmPLdZ",
    "outputId": "21ab0dea-44fb-4671-db00-5347f4b69d3b"
   },
   "outputs": [
    {
     "data": {
      "text/html": [
       "<div>\n",
       "<style scoped>\n",
       "    .dataframe tbody tr th:only-of-type {\n",
       "        vertical-align: middle;\n",
       "    }\n",
       "\n",
       "    .dataframe tbody tr th {\n",
       "        vertical-align: top;\n",
       "    }\n",
       "\n",
       "    .dataframe thead th {\n",
       "        text-align: right;\n",
       "    }\n",
       "</style>\n",
       "<table border=\"1\" class=\"dataframe\">\n",
       "  <thead>\n",
       "    <tr style=\"text-align: right;\">\n",
       "      <th></th>\n",
       "      <th>S.No</th>\n",
       "      <th>Date</th>\n",
       "      <th>Number of Books Sold</th>\n",
       "    </tr>\n",
       "  </thead>\n",
       "  <tbody>\n",
       "    <tr>\n",
       "      <th>0</th>\n",
       "      <td>1</td>\n",
       "      <td>01-01-2020</td>\n",
       "      <td>90</td>\n",
       "    </tr>\n",
       "    <tr>\n",
       "      <th>1</th>\n",
       "      <td>2</td>\n",
       "      <td>02-01-2020</td>\n",
       "      <td>100</td>\n",
       "    </tr>\n",
       "    <tr>\n",
       "      <th>2</th>\n",
       "      <td>3</td>\n",
       "      <td>03-01-2020</td>\n",
       "      <td>100</td>\n",
       "    </tr>\n",
       "    <tr>\n",
       "      <th>3</th>\n",
       "      <td>4</td>\n",
       "      <td>04-01-2020</td>\n",
       "      <td>97</td>\n",
       "    </tr>\n",
       "    <tr>\n",
       "      <th>4</th>\n",
       "      <td>5</td>\n",
       "      <td>05-01-2020</td>\n",
       "      <td>93</td>\n",
       "    </tr>\n",
       "    <tr>\n",
       "      <th>5</th>\n",
       "      <td>6</td>\n",
       "      <td>06-01-2020</td>\n",
       "      <td>95</td>\n",
       "    </tr>\n",
       "    <tr>\n",
       "      <th>6</th>\n",
       "      <td>7</td>\n",
       "      <td>07-01-2020</td>\n",
       "      <td>100</td>\n",
       "    </tr>\n",
       "    <tr>\n",
       "      <th>7</th>\n",
       "      <td>8</td>\n",
       "      <td>08-01-2020</td>\n",
       "      <td>96</td>\n",
       "    </tr>\n",
       "    <tr>\n",
       "      <th>8</th>\n",
       "      <td>9</td>\n",
       "      <td>09-01-2020</td>\n",
       "      <td>96</td>\n",
       "    </tr>\n",
       "    <tr>\n",
       "      <th>9</th>\n",
       "      <td>10</td>\n",
       "      <td>10-01-2020</td>\n",
       "      <td>92</td>\n",
       "    </tr>\n",
       "    <tr>\n",
       "      <th>10</th>\n",
       "      <td>11</td>\n",
       "      <td>11-01-2020</td>\n",
       "      <td>99</td>\n",
       "    </tr>\n",
       "    <tr>\n",
       "      <th>11</th>\n",
       "      <td>12</td>\n",
       "      <td>12-01-2020</td>\n",
       "      <td>94</td>\n",
       "    </tr>\n",
       "    <tr>\n",
       "      <th>12</th>\n",
       "      <td>13</td>\n",
       "      <td>13-01-2020</td>\n",
       "      <td>90</td>\n",
       "    </tr>\n",
       "    <tr>\n",
       "      <th>13</th>\n",
       "      <td>14</td>\n",
       "      <td>14-01-2020</td>\n",
       "      <td>92</td>\n",
       "    </tr>\n",
       "    <tr>\n",
       "      <th>14</th>\n",
       "      <td>15</td>\n",
       "      <td>15-01-2020</td>\n",
       "      <td>91</td>\n",
       "    </tr>\n",
       "    <tr>\n",
       "      <th>15</th>\n",
       "      <td>16</td>\n",
       "      <td>16-01-2020</td>\n",
       "      <td>96</td>\n",
       "    </tr>\n",
       "    <tr>\n",
       "      <th>16</th>\n",
       "      <td>17</td>\n",
       "      <td>17-01-2020</td>\n",
       "      <td>99</td>\n",
       "    </tr>\n",
       "    <tr>\n",
       "      <th>17</th>\n",
       "      <td>18</td>\n",
       "      <td>18-01-2020</td>\n",
       "      <td>95</td>\n",
       "    </tr>\n",
       "    <tr>\n",
       "      <th>18</th>\n",
       "      <td>19</td>\n",
       "      <td>19-01-2020</td>\n",
       "      <td>99</td>\n",
       "    </tr>\n",
       "    <tr>\n",
       "      <th>19</th>\n",
       "      <td>20</td>\n",
       "      <td>20-01-2020</td>\n",
       "      <td>97</td>\n",
       "    </tr>\n",
       "  </tbody>\n",
       "</table>\n",
       "</div>"
      ],
      "text/plain": [
       "    S.No        Date  Number of Books Sold\n",
       "0      1  01-01-2020                    90\n",
       "1      2  02-01-2020                   100\n",
       "2      3  03-01-2020                   100\n",
       "3      4  04-01-2020                    97\n",
       "4      5  05-01-2020                    93\n",
       "5      6  06-01-2020                    95\n",
       "6      7  07-01-2020                   100\n",
       "7      8  08-01-2020                    96\n",
       "8      9  09-01-2020                    96\n",
       "9     10  10-01-2020                    92\n",
       "10    11  11-01-2020                    99\n",
       "11    12  12-01-2020                    94\n",
       "12    13  13-01-2020                    90\n",
       "13    14  14-01-2020                    92\n",
       "14    15  15-01-2020                    91\n",
       "15    16  16-01-2020                    96\n",
       "16    17  17-01-2020                    99\n",
       "17    18  18-01-2020                    95\n",
       "18    19  19-01-2020                    99\n",
       "19    20  20-01-2020                    97"
      ]
     },
     "execution_count": 17,
     "metadata": {},
     "output_type": "execute_result"
    }
   ],
   "source": [
    "book_count = pd.read_csv(\"bookseller.csv\")\n",
    "book_count.head(20)"
   ]
  },
  {
   "cell_type": "markdown",
   "metadata": {
    "id": "O_oLSxTAtpdA"
   },
   "source": [
    "Let's plot the histogram of data along with the PDF of uniform distribution using the parameters minimum book sold and maximum book sold in a day."
   ]
  },
  {
   "cell_type": "code",
   "execution_count": 16,
   "metadata": {
    "colab": {
     "base_uri": "https://localhost:8080/",
     "height": 295
    },
    "id": "7X0yHFZSPXzG",
    "outputId": "02c381bf-8fb0-4777-e843-d010ec1eeafb"
   },
   "outputs": [
    {
     "data": {
      "image/png": "[encoded data removed]",
      "text/plain": [
       "<Figure size 432x288 with 1 Axes>"
      ]
     },
     "metadata": {
      "needs_background": "light"
     },
     "output_type": "display_data"
    }
   ],
   "source": [
    "# visualize the distribution of number of books sold\n",
    "plt.hist(book_count[\"Number of Books Sold\"], 11, rwidth=0.9, density=True)\n",
    "plt.axhline(1 / 11, color=\"red\")\n",
    "plt.xlabel(\"Number of books sold\")\n",
    "plt.ylabel(\"Density\")\n",
    "plt.title(\"Data Distribution\")\n",
    "plt.show()"
   ]
  },
  {
   "cell_type": "markdown",
   "metadata": {
    "id": "SZRCAKIYtxtZ"
   },
   "source": [
    "**Insight**: As you can see from the above plot that all the values between 90 and 100 are having almost equal probability, you can assume that the number of books sold follow discrete uniform distribution.\n",
    "\n",
    "X ~ U(90,100)\n",
    "\n",
    "\n",
    "\n"
   ]
  },
  {
   "cell_type": "code",
   "execution_count": null,
   "metadata": {
    "id": "1toBZPXHaQq5"
   },
   "outputs": [],
   "source": [
    "# import the required function\n",
    "from scipy.stats import uniform\n",
    "\n",
    "# use the uniform.pmf() function to generate the probability distribution\n",
    "k = np.arange(90, 101)\n",
    "probs = uniform.pdf(k, loc=90, scale=11)"
   ]
  },
  {
   "cell_type": "markdown",
   "metadata": {
    "id": "Y-VxV04aaUAv"
   },
   "source": [
    "**Find the probability that more than 96 books will be sold on a given day**\n",
    "\n",
    "$ P(X\\geq 96)$"
   ]
  },
  {
   "cell_type": "code",
   "execution_count": null,
   "metadata": {
    "colab": {
     "base_uri": "https://localhost:8080/",
     "height": 295
    },
    "id": "xR4qY7szt0gc",
    "outputId": "ac7fca0c-20cb-4546-ae25-f48972254c0a"
   },
   "outputs": [],
   "source": [
    "# plot the probability distribution\n",
    "# We are plotting the distributions here to better visualize the calculations.\n",
    "# Of course you do not 'need' to create the following visualization to answer the question above.\n",
    "# You can directly use the cdf function for probability calculations.\n",
    "\n",
    "barl = plt.bar(k, probs)\n",
    "\n",
    "for i in range(6, 11):\n",
    "    barl[i].set_color(\"r\")\n",
    "plt.xlabel(\"Number of books sold\")\n",
    "plt.ylabel(\"Probability\")\n",
    "plt.title(\"Discrete Uniform Distribution: X ~ U(90,100)\")\n",
    "plt.show()"
   ]
  },
  {
   "cell_type": "markdown",
   "metadata": {
    "id": "PlxQrsYAt3dS"
   },
   "source": [
    "In the above graph, red region represent P(X>=96). Let's calculate the probability that more than 96 books will be sold on a given day. We will use uniform.cdf() for this.\n"
   ]
  },
  {
   "cell_type": "code",
   "execution_count": null,
   "metadata": {
    "colab": {
     "base_uri": "https://localhost:8080/"
    },
    "id": "lr9R9JoWt5XO",
    "outputId": "78b47fa7-a7e9-4069-f3d9-eee1f2337b46"
   },
   "outputs": [],
   "source": [
    "1 - uniform.cdf(96, loc=90, scale=11)"
   ]
  },
  {
   "cell_type": "markdown",
   "metadata": {
    "id": "TialDynet7im"
   },
   "source": [
    "**Find the probability that less than 92 books will be sold on a given day**\n",
    "\n",
    "\n",
    "$ P(X\\leq 92) $"
   ]
  },
  {
   "cell_type": "code",
   "execution_count": null,
   "metadata": {
    "colab": {
     "base_uri": "https://localhost:8080/",
     "height": 295
    },
    "id": "kARTaWj4uC-i",
    "outputId": "1c4ad91d-9319-439e-f549-470468d2e3f8"
   },
   "outputs": [],
   "source": [
    "# plot the probability distribution\n",
    "# We are plotting the distributions here to better visualize the calculations.\n",
    "# Of course you do not 'need' to create the following visualization to answer the question above.\n",
    "# You can directly use the cdf function for probability calculations.\n",
    "barl = plt.bar(k, probs)\n",
    "\n",
    "for i in range(0, 3):\n",
    "    barl[i].set_color(\"r\")\n",
    "plt.xlabel(\"Number of books sold\")\n",
    "plt.ylabel(\"Probability\")\n",
    "plt.title(\"Discrete Uniform Distribution: X ~ U(90,100)\")\n",
    "plt.show()"
   ]
  },
  {
   "cell_type": "markdown",
   "metadata": {
    "id": "0bQxQ48suGC1"
   },
   "source": [
    "In the above graph, red region represent P(X<=92). Let's calculate the probability that less than 92 books will be sold on a given day. We will use uniform.cdf() for this."
   ]
  },
  {
   "cell_type": "code",
   "execution_count": null,
   "metadata": {
    "colab": {
     "base_uri": "https://localhost:8080/"
    },
    "id": "CIoU5gXUuGpu",
    "outputId": "14f6aae6-5bb0-48a4-c27c-8baa59fbf1e3"
   },
   "outputs": [],
   "source": [
    "uniform.cdf(93, loc=90, scale=11)"
   ]
  },
  {
   "cell_type": "markdown",
   "metadata": {
    "id": "pKSHSw8nuME-"
   },
   "source": [
    "### Conclusion:\n",
    "\n",
    "There is 45.45% chance that more than 96 books will be sold on a given day.\n",
    "\n",
    "There is 27.27% chance that less than 92 books will be sold on a given day."
   ]
  },
  {
   "cell_type": "markdown",
   "metadata": {
    "id": "W_7b3pe_2n4J"
   },
   "source": [
    "\n",
    "### Continuous Uniform Distribution \n",
    "\n",
    "\n",
    "\n"
   ]
  },
  {
   "cell_type": "markdown",
   "metadata": {
    "id": "09HdAX6HH1zm"
   },
   "source": [
    "### Problem statement\n",
    "\n",
    "\n",
    " IT industry records the amount of time a software engineer needs to fix a  bug in the initial phase of software development in 'debugging.csv'.\n",
    "\n",
    "Let\n",
    "\n",
    "X = Time needed to fix bugs\n",
    "\n",
    "\n",
    "X is a continuous random variable. Let's see the distribution of X and answer the below questions.\n",
    "\n",
    "\n",
    "1. Find the probability that a randomly selected software debugging requires less than three hours\n",
    "\n",
    "2. Find the probability that a randomly selected software debugging requires more than two hours\n",
    "\n",
    "3. Find the 50th percentile of the software debugging time\n",
    "\n",
    "\n",
    "\n"
   ]
  },
  {
   "cell_type": "markdown",
   "metadata": {
    "id": "rxZypF7VV-fC"
   },
   "source": [
    "### Reading the Data into the Dataframe"
   ]
  },
  {
   "cell_type": "code",
   "execution_count": null,
   "metadata": {
    "colab": {
     "base_uri": "https://localhost:8080/",
     "height": 204
    },
    "id": "6MAsEtn8euWu",
    "outputId": "3978493a-3f32-4203-abe6-f192a831f991"
   },
   "outputs": [],
   "source": [
    "debugging = pd.read_csv(\"debugging.csv\")\n",
    "debugging.head()"
   ]
  },
  {
   "cell_type": "markdown",
   "metadata": {
    "id": "jMann_MBgiuJ"
   },
   "source": [
    "Let's plot the histogram of data along with the PDF of uniform distribution using the parameters minimum time required and maximum time required for bug fixing."
   ]
  },
  {
   "cell_type": "code",
   "execution_count": null,
   "metadata": {
    "colab": {
     "base_uri": "https://localhost:8080/",
     "height": 295
    },
    "id": "kS-9PRtOf3N7",
    "outputId": "c07afd41-e3de-467b-8394-e68375c2705d"
   },
   "outputs": [],
   "source": [
    "# visualize the distribution of the time needed for bug fixing\n",
    "plt.hist(debugging[\"Time Taken to fix the bug\"], density=True)\n",
    "plt.axhline(1 / 4, color=\"red\")\n",
    "plt.xlabel(\"Time required for bug fixing\")\n",
    "plt.ylabel(\"Probability\")\n",
    "plt.title(\"Data Distribution\")\n",
    "plt.show()"
   ]
  },
  {
   "cell_type": "markdown",
   "metadata": {
    "id": "W0WEldmPnsNy"
   },
   "source": [
    "Another way to recognize a uniform distribution in your data is to look at a density plot. We will use distplot of seaborn library to visualize the distribution of time needed for bug fixing."
   ]
  },
  {
   "cell_type": "code",
   "execution_count": null,
   "metadata": {
    "colab": {
     "base_uri": "https://localhost:8080/",
     "height": 369
    },
    "id": "Y8JNEytSnx5G",
    "outputId": "cdd1b769-0b6a-4909-df13-d4b76cef49e9"
   },
   "outputs": [],
   "source": [
    "# Density plot of time taken to fix the bug\n",
    "sns.distplot(debugging[\"Time Taken to fix the bug\"])\n",
    "plt.show()"
   ]
  },
  {
   "cell_type": "markdown",
   "metadata": {
    "id": "6l8KaNvqnUFr"
   },
   "source": [
    "**Insight**: As you can see from the above plot that all the values between 1 and 5 are having almost equal probability, we are going to use continuous uniform distribution. We need to decide the endpoints. Here, endpoints are 1 and 5.\n",
    "\n",
    "X ~ U(1, 5)"
   ]
  },
  {
   "cell_type": "code",
   "execution_count": null,
   "metadata": {
    "id": "2fT7CSlGuTbq"
   },
   "outputs": [],
   "source": [
    "# import the required function\n",
    "from scipy.stats import uniform\n",
    "\n",
    "# use the uniform.pmf() function to generate the probability distribution\n",
    "x = np.linspace(1, 5, 50)\n",
    "probs = uniform.pdf(x, loc=1, scale=4)"
   ]
  },
  {
   "cell_type": "markdown",
   "metadata": {
    "id": "oOofOLsnp4PZ"
   },
   "source": [
    "**Find the probability that a randomly selected software debugging requires a maximum time of 3 hours** \n",
    "\n",
    "**CDF:** of a random variable(X) is the probability that X  will take the value less than or equal to x. It can be represented mathematically as below.\n",
    "\n",
    ">$F_X(x) = P(X\\leq x)$\n",
    "\n",
    "\n",
    "In our case, random variable(X) is the number of hours.\n",
    "\n",
    "$ P(X\\leq 3)$"
   ]
  },
  {
   "cell_type": "code",
   "execution_count": null,
   "metadata": {
    "colab": {
     "base_uri": "https://localhost:8080/",
     "height": 295
    },
    "id": "NZ3X6Ay0YFgv",
    "outputId": "1dea6a13-d28e-4fcf-8928-e4ac148670db"
   },
   "outputs": [],
   "source": [
    "# plot the probability distribution\n",
    "# We are plotting the distributions here to better visualize the calculations.\n",
    "# Of course you do not 'need' to create the following visualization to answer the question above.\n",
    "# You can directly use the cdf function for probability calculations.\n",
    "x1 = np.linspace(1, 3, 25)\n",
    "plt.plot(x, probs)\n",
    "plt.fill_between(x, probs)\n",
    "plt.fill_between(x1, uniform.pdf(x=x1, loc=1, scale=4), color=\"r\")\n",
    "plt.xlabel(\"Time required for bug fixing\")\n",
    "plt.ylabel(\"Probability\")\n",
    "plt.title(\"Continuous Uniform Distribution: X ~ U(1,5)\")\n",
    "plt.show()"
   ]
  },
  {
   "cell_type": "markdown",
   "metadata": {
    "id": "jsO4QpfwZcwt"
   },
   "source": [
    "In the above graph, red region represent P(X<=3). Let's calculate the probability that that a randomly selected software debugging requires a maximum time of 3 hours . We will use uniform.cdf() for this."
   ]
  },
  {
   "cell_type": "code",
   "execution_count": null,
   "metadata": {
    "colab": {
     "base_uri": "https://localhost:8080/"
    },
    "id": "fj9AwdyMpNUC",
    "outputId": "cd2d5788-178c-4e09-87e5-4141b88de145"
   },
   "outputs": [],
   "source": [
    "uniform.cdf(x=3, loc=1, scale=4)"
   ]
  },
  {
   "cell_type": "markdown",
   "metadata": {
    "id": "XpJfn4AHnGni"
   },
   "source": [
    "**Find the probability that a randomly selected software bug fixing requires more than two hours.**\n",
    "\n",
    "$ P(X>2)$"
   ]
  },
  {
   "cell_type": "code",
   "execution_count": null,
   "metadata": {
    "colab": {
     "base_uri": "https://localhost:8080/",
     "height": 295
    },
    "id": "lYY7xoc2ZsHO",
    "outputId": "dc5d31b5-1a5a-4fad-ed98-725a46ec045a"
   },
   "outputs": [],
   "source": [
    "# plot the probability distribution\n",
    "# We are plotting the distributions here to better visualize the calculations.\n",
    "# Of course you do not 'need' to create the following visualization to answer the question above.\n",
    "# You can directly use the cdf function for probability calculations.\n",
    "x1 = np.linspace(2, 5, 20)\n",
    "plt.plot(x, probs)\n",
    "plt.fill_between(x, probs)\n",
    "plt.fill_between(x1, uniform.pdf(x=x1, loc=1, scale=4), color=\"r\")\n",
    "plt.xlabel(\"Time required for bug fixing\")\n",
    "plt.ylabel(\"Probability\")\n",
    "plt.title(\"Continuous Uniform Distribution: X ~ U(1,5)\")\n",
    "plt.show()"
   ]
  },
  {
   "cell_type": "markdown",
   "metadata": {
    "id": "L6nuGX3_hszt"
   },
   "source": [
    "In the above graph, orange region represent P(X>2). Let's calculate the probability that that that a randomly selected software debugging requires more than two hours. We will use uniform.cdf() for this."
   ]
  },
  {
   "cell_type": "code",
   "execution_count": null,
   "metadata": {
    "colab": {
     "base_uri": "https://localhost:8080/"
    },
    "id": "OyIT9XaCMwyS",
    "outputId": "752a5a4b-1935-4891-933a-d9f5cbcba716"
   },
   "outputs": [],
   "source": [
    "1 - uniform.cdf(x=2, loc=1, scale=4)"
   ]
  },
  {
   "cell_type": "markdown",
   "metadata": {
    "id": "pNyDh5HIpUSZ"
   },
   "source": [
    "**Let's calculate the 50th percentile of software debugging time.**\n",
    "\n",
    "ppf(): It is used to calculate the percentile point given probability. It works opposite of cdf()"
   ]
  },
  {
   "cell_type": "code",
   "execution_count": null,
   "metadata": {
    "colab": {
     "base_uri": "https://localhost:8080/"
    },
    "id": "txsUODi0pMty",
    "outputId": "591da85a-a5dc-4739-8108-89f69bf1bfb9"
   },
   "outputs": [],
   "source": [
    "uniform.ppf(q=0.5, loc=1, scale=4)"
   ]
  },
  {
   "cell_type": "markdown",
   "metadata": {
    "id": "1VMrZcEPAedz"
   },
   "source": [
    "### Conclusion:  \n",
    "\n",
    "There is a 50% chance that a randomly selected software debugging requires less than three hours.\n",
    "\n",
    "There is an 75% chance that a randomly selected software debugging requires more than two hours.\n",
    "\n",
    "The 50th percentile of the software debugging time is 3 hours."
   ]
  },
  {
   "cell_type": "markdown",
   "metadata": {
    "id": "QUnO4uNt6YLO"
   },
   "source": [
    "# <a name='link3'>**Normal Distribution**</a>"
   ]
  },
  {
   "cell_type": "markdown",
   "metadata": {
    "id": "0R8rRXiHOdAm"
   },
   "source": [
    "### Problem statement\n",
    "\n",
    "A testing agency wants to analyze the complexity of SAT Exam 2020. They have collected the SAT scores of 1000 students in \"sat_score.csv\". Let's answer some of the questions that will help to decide the complexity of SAT exam 2020.\n",
    "\n",
    "\n",
    " \n",
    "1. Calculate the probability that a student will score less than 800 in SAT exam\n",
    "2. Calculate the probability that a student will score more than 1300 in SAT exam\n",
    "3.  Calculate the minimum marks a student must score in order to secure 90th percentile\n",
    "4. Calculate the minimum marks a student must score in order to be in the top 5%\n",
    "\n"
   ]
  },
  {
   "cell_type": "markdown",
   "metadata": {
    "id": "-4qW1rxRREvT"
   },
   "source": [
    "### Reading the Data into the Dataframe"
   ]
  },
  {
   "cell_type": "code",
   "execution_count": null,
   "metadata": {
    "colab": {
     "base_uri": "https://localhost:8080/",
     "height": 204
    },
    "id": "v9AABdoqSiP7",
    "outputId": "63393d66-8c30-4e88-fee6-689269b0d929"
   },
   "outputs": [],
   "source": [
    "sat_score = pd.read_csv(\"sat_score.csv\")\n",
    "sat_score.head()"
   ]
  },
  {
   "cell_type": "markdown",
   "metadata": {
    "id": "dQi7JSQgSRAH"
   },
   "source": [
    "### Calculating the mean and standard deviation (parameters) of the SAT score \n",
    "\n"
   ]
  },
  {
   "cell_type": "code",
   "execution_count": null,
   "metadata": {
    "colab": {
     "base_uri": "https://localhost:8080/"
    },
    "id": "9-SdkGCiSuug",
    "outputId": "9881559f-847d-410b-9e13-21bc087e03c5"
   },
   "outputs": [],
   "source": [
    "# import the required function\n",
    "from scipy.stats import norm\n",
    "\n",
    "# estimate the mean and standard deviation of the SAT scores data\n",
    "mu = sat_score[\"score\"].mean()\n",
    "sigma = sat_score[\"score\"].std()\n",
    "print(\"The estimated mean is\", round(mu, 2))\n",
    "print(\"The estimated standard deviation is\", round(sigma, 2))"
   ]
  },
  {
   "cell_type": "markdown",
   "metadata": {
    "id": "-LfgewK8S_eW"
   },
   "source": [
    "### Plotting the Distribution \n",
    "\n",
    "It  will help us analyze the shape of the data and visualize the PDF of normal distribution using the parameters (mean (mu) and Standard deviation (sigma)) from data"
   ]
  },
  {
   "cell_type": "code",
   "execution_count": null,
   "metadata": {
    "colab": {
     "base_uri": "https://localhost:8080/",
     "height": 295
    },
    "id": "vOHuwBtCTF84",
    "outputId": "e8dfe2f9-388c-46ac-e36e-50dfcce9d63d"
   },
   "outputs": [],
   "source": [
    "# calculate the pdf of SAT scores using norm.pdf()\n",
    "density = pd.DataFrame()\n",
    "density[\"x\"] = np.linspace(\n",
    "    sat_score[\"score\"].min() - 0.01, sat_score[\"score\"].max() + 0.01, 100\n",
    ")\n",
    "density[\"pdf\"] = norm.pdf(density[\"x\"], mu, sigma)\n",
    "\n",
    "fig, ax = plt.subplots()\n",
    "# plot the distribution of data using histogram\n",
    "sns.histplot(sat_score[\"score\"], ax=ax, kde=True, stat=\"density\")\n",
    "# plot the pdf of the normal distribution\n",
    "ax.plot(density[\"x\"], density[\"pdf\"], color=\"red\")\n",
    "plt.title(\"Normal Distribution\")\n",
    "plt.show()"
   ]
  },
  {
   "cell_type": "markdown",
   "metadata": {
    "id": "TaxsnyemW_XO"
   },
   "source": [
    "**Insight:**  As you  can see in the above plot, there are two curves red and blue. Blue curve represents the shape of data distribution and red curve represnts the PDF ( Probability density function ). This data is approximately normal. Thus, we can assume this data distribution to be normal and perform our calculations based on normality assumption.\n",
    "\n",
    "X ~ N(mu, sigma)"
   ]
  },
  {
   "cell_type": "markdown",
   "metadata": {
    "id": "QwAnza_V2_zd"
   },
   "source": [
    "**Calculate the probability that a student will score less than 800 in SAT exam.**"
   ]
  },
  {
   "cell_type": "code",
   "execution_count": null,
   "metadata": {
    "colab": {
     "base_uri": "https://localhost:8080/"
    },
    "id": "q8tpyDpA3ECE",
    "outputId": "0a1a6400-3168-4088-f8ca-0a56728cc5e9"
   },
   "outputs": [],
   "source": [
    "# find the cumulative probability\n",
    "# norm.cdf() calculates the cumulative probability\n",
    "prob_less_than_800 = norm.cdf(800, mu, sigma)\n",
    "print(\n",
    "    \"The probability that a student will score less than 800 is\",\n",
    "    round(prob_less_than_800, 4),\n",
    ")"
   ]
  },
  {
   "cell_type": "code",
   "execution_count": null,
   "metadata": {
    "colab": {
     "base_uri": "https://localhost:8080/",
     "height": 295
    },
    "id": "jfCFhTswmyGQ",
    "outputId": "798e2166-bc1a-4b82-cc99-67ab084b8ccc"
   },
   "outputs": [],
   "source": [
    "# plot the probability distribution\n",
    "# We are plotting the distributions here to better visualize the calculations.\n",
    "# Of course you do not 'need' to create the following visualization to answer the question above.\n",
    "# You can directly use the cdf function for probability calculations.\n",
    "plt.plot(density[\"x\"], density[\"pdf\"])\n",
    "plt.axvline(x=800, c=\"r\")\n",
    "x1 = np.linspace(density[\"x\"].min(), 800, 50)\n",
    "plt.fill_between(x1, norm.pdf(x1, mu, sigma), color=\"r\")\n",
    "plt.xlabel(\"Score\")\n",
    "plt.ylabel(\"Probability\")\n",
    "plt.title(\"Normal Distribution\")\n",
    "plt.show()"
   ]
  },
  {
   "cell_type": "markdown",
   "metadata": {
    "id": "6ex638Ds2ZB7"
   },
   "source": [
    "**Calculate the probability that a student will score more than 1300 in SAT exam.**"
   ]
  },
  {
   "cell_type": "code",
   "execution_count": null,
   "metadata": {
    "colab": {
     "base_uri": "https://localhost:8080/"
    },
    "id": "XKNmeEcitQ5I",
    "outputId": "8de94f66-2e1c-47db-d07e-30b126deef5d"
   },
   "outputs": [],
   "source": [
    "# find the cumulative probability and subtract it from 1 to calculate the probability that a student will score more than 1300\n",
    "prob_greater_than_1300 = 1 - norm.cdf(1300, mu, sigma)\n",
    "print(\n",
    "    \"The probability that a student will score more than 1300 is\",\n",
    "    round(prob_greater_than_1300, 4),\n",
    ")"
   ]
  },
  {
   "cell_type": "code",
   "execution_count": null,
   "metadata": {
    "colab": {
     "base_uri": "https://localhost:8080/",
     "height": 295
    },
    "id": "OgzxNF6JoUJT",
    "outputId": "ecf9106d-f25f-4f7f-acf1-05cdde83556d"
   },
   "outputs": [],
   "source": [
    "# plot the probability distribution\n",
    "# We are plotting the distributions here to better visualize the calculations.\n",
    "# Of course you do not 'need' to create the following visualization to answer the question above.\n",
    "# You can directly use the cdf function for probability calculations.\n",
    "plt.plot(density[\"x\"], density[\"pdf\"])\n",
    "plt.axvline(x=1300, c=\"r\")\n",
    "x1 = np.linspace(1300, density[\"x\"].max(), 50)\n",
    "plt.fill_between(x1, norm.pdf(x1, mu, sigma), color=\"r\")\n",
    "plt.xlabel(\"Score\")\n",
    "plt.ylabel(\"Probability\")\n",
    "plt.title(\"Normal Distribution\")\n",
    "plt.show()"
   ]
  },
  {
   "cell_type": "markdown",
   "metadata": {
    "id": "CYSTnLmh3e7G"
   },
   "source": [
    "**Calculate the minimum marks a student must score in order to to be in the 90th percentile**"
   ]
  },
  {
   "cell_type": "code",
   "execution_count": null,
   "metadata": {
    "colab": {
     "base_uri": "https://localhost:8080/"
    },
    "id": "1HfqiMVm3sv7",
    "outputId": "970cbfc0-d1aa-4465-91d2-acd809a7939a"
   },
   "outputs": [],
   "source": [
    "# calculate the 90th percentile score using ppf() function\n",
    "# norm.ppf() calculates the percentile point\n",
    "score_90th_percentile = norm.ppf(0.90, mu, sigma)\n",
    "print(\"The 90th percentile score should be\", round(score_90th_percentile))"
   ]
  },
  {
   "cell_type": "code",
   "execution_count": null,
   "metadata": {
    "colab": {
     "base_uri": "https://localhost:8080/",
     "height": 295
    },
    "id": "R_hYER8mpU6S",
    "outputId": "7e703f8c-3430-4f04-de43-59720c214ed8"
   },
   "outputs": [],
   "source": [
    "# plot the probability distribution\n",
    "# We are plotting the distributions here to better visualize the calculations.\n",
    "# Of course you do not 'need' to create the following visualization to answer the question above.\n",
    "# You can directly use the cdf function for probability calculations.\n",
    "plt.plot(density[\"x\"], density[\"pdf\"])\n",
    "plt.axvline(x=score_90th_percentile, c=\"r\")\n",
    "plt.xlabel(\"Score\")\n",
    "plt.ylabel(\"Probability\")\n",
    "plt.title(\"Normal Distribution\")\n",
    "plt.show()"
   ]
  },
  {
   "cell_type": "markdown",
   "metadata": {
    "id": "3_FzvdEO4yau"
   },
   "source": [
    "**Calculate the minimum marks a student must score in order to be in the top 5%**"
   ]
  },
  {
   "cell_type": "code",
   "execution_count": null,
   "metadata": {
    "colab": {
     "base_uri": "https://localhost:8080/"
    },
    "id": "19O2QuIR4vIC",
    "outputId": "02413764-cbd9-45e9-a241-ca94ac45620d"
   },
   "outputs": [],
   "source": [
    "# calculate the 95th percentile score using ppf() function\n",
    "score_top_five_percent = norm.ppf(0.95, mu, sigma)\n",
    "print(\"The minimum score to be in top 5% should be\", round(score_top_five_percent))"
   ]
  },
  {
   "cell_type": "code",
   "execution_count": null,
   "metadata": {
    "colab": {
     "base_uri": "https://localhost:8080/",
     "height": 295
    },
    "id": "BWMz44btpquA",
    "outputId": "9f1594bf-fcc7-420b-8324-8ff272da92c6"
   },
   "outputs": [],
   "source": [
    "# plot the probability distribution\n",
    "# We are plotting the distributions here to better visualize the calculations.\n",
    "# Of course you do not 'need' to create the following visualization to answer the question above.\n",
    "# You can directly use the cdf function for probability calculations.\n",
    "plt.plot(density[\"x\"], density[\"pdf\"])\n",
    "plt.axvline(x=score_top_five_percent, c=\"r\")\n",
    "plt.xlabel(\"Score\")\n",
    "plt.ylabel(\"Probability\")\n",
    "plt.title(\"Normal Distribution\")\n",
    "plt.show()"
   ]
  },
  {
   "cell_type": "markdown",
   "metadata": {
    "id": "W91dM6Gwsbzk"
   },
   "source": [
    "**Conclusion:** \n",
    "\n",
    "1) Only 15.51% students will score below 800 and 7.62% students will score above 1300. It shows that 2020 SAT exam's complexity is moderate. \n",
    "\n",
    "2) Student should score at least 1269 to secure 90th percentile.\n",
    "\n",
    "3) Student should score at least 1344 to be in the top 5%."
   ]
  },
  {
   "cell_type": "markdown",
   "metadata": {},
   "source": [
    "### Standardization of Normal Variables\n",
    "\n",
    "Suppose we know that the SAT scores are normally distributed with mean 1000 and standard deviation 200 and ACT scores are normally distributed with mean 20 and standard deviation 5. \n",
    "\n",
    "A college provides admission only on the basis of SAT and ACT scores. The college admin decides to give the top performer fellowship to the student who has performed the best among all applicants. The highest score received from applicants who appeared for SAT is 1350 and the highest score received from applicants who appeared for ACT is 30. \n",
    "\n",
    "Help the college to choose the best candidate for the fellowship!"
   ]
  },
  {
   "cell_type": "code",
   "execution_count": null,
   "metadata": {},
   "outputs": [],
   "source": [
    "# plot the two distribution for SAT and ACT scores\n",
    "# We are plotting the distributions here to better visualize the calculations.\n",
    "# Of course you do not 'need' to create the following visualization to answer the question above.\n",
    "# You can directly use the cdf function for probability calculations.\n",
    "from scipy.stats import norm\n",
    "fig, (ax1, ax2) = plt.subplots(1,2, figsize = (12,4))\n",
    "x = np.linspace(400, 1600, 1000)\n",
    "ax1.plot(x, norm.pdf(x, loc = 1000, scale = 200), color = 'b')\n",
    "ax1.set_title('Normal Distribution of SAT scores')\n",
    "ax1.set_xlabel('SAT scores')\n",
    "ax1.set_ylabel('Probability')\n",
    "ax1.axvline(1350, ymax = 0.23, linestyle = '--', color = 'green')\n",
    "x1 = np.linspace(1, 36, 100)\n",
    "ax2.plot(x1, norm.pdf(x1, loc = 20, scale = 5), color = 'r')\n",
    "ax2.set_title('Normal Distribution of ACT scores')\n",
    "ax2.set_xlabel('ACT scores')\n",
    "ax2.set_ylabel('Probability')\n",
    "ax2.axvline(30, ymax = 0.18, linestyle = '--', color = 'green')\n",
    "plt.show()"
   ]
  },
  {
   "cell_type": "markdown",
   "metadata": {},
   "source": [
    "In the above plot, the blue curve represents the distribution of SAT scores and the red curve represents the distribution of ACT scores. The highest scores of the applicants in SAT and ACT exams are dotted with green lines in the respective distributions. However, it is difficult for us to compare the raw highest scores in the above plot. Thus, we need to standardize the two scores and compare their Z-scores."
   ]
  },
  {
   "cell_type": "code",
   "execution_count": null,
   "metadata": {},
   "outputs": [],
   "source": [
    "# find the Z-score of highest scorer in SAT among all the applicants\n",
    "top_sat = (1350 - 1200) / 200\n",
    "print('The Z-score of highest scorer in SAT among all the applicants', top_sat)\n",
    "# find the Z-score of highest scorer in ACT among all the applicants\n",
    "top_act = (30 - 20) / 5\n",
    "print('The Z-score of highest scorer in ACT among all the applicants', top_act)"
   ]
  },
  {
   "cell_type": "markdown",
   "metadata": {},
   "source": [
    "Let's plot the standard normal distribution and visualize the above standardized scores."
   ]
  },
  {
   "cell_type": "code",
   "execution_count": null,
   "metadata": {},
   "outputs": [],
   "source": [
    "# plot the standard normal distribution\n",
    "# and visualize the standardized scores\n",
    "# We are plotting the distributions here to better visualize the calculations.\n",
    "# Of course you do not 'need' to create the following visualization to answer the question above.\n",
    "# You can directly use the cdf function for probability calculations.\n",
    "fig, ax = plt.subplots()\n",
    "x = np.linspace(-4,4,50)\n",
    "ax.plot(x, norm.pdf(x, loc = 0, scale = 1), color = 'b')\n",
    "ax.set_title('Standard Normal Distribution')\n",
    "ax.set_xlabel('Z-scores')\n",
    "ax.set_ylabel('Probability')\n",
    "ax.axvline(top_sat, ymax = 0.75, linestyle = '--', color = 'green')\n",
    "ax.axvline(top_act, ymax = 0.16, linestyle = '--', color = 'black')\n",
    "plt.show()"
   ]
  },
  {
   "cell_type": "markdown",
   "metadata": {},
   "source": [
    "In the above plot, the green line represents the standardized highest SAT score of the applicants which is 0.75 standard deviation above the mean and the black line represents the standardized highest ACT score of the applicants which is 2 standard deviations above the mean.\n",
    "\n",
    "This means that among the applicants, the highest scorer in ACT performed better than the highest scorer in SAT.\n",
    "\n",
    "Thus, the top performer fellowship should be given to the applicant who has scored highest in ACT."
   ]
  },
  {
   "cell_type": "markdown",
   "metadata": {
    "id": "26wT4S4S5yrm"
   },
   "source": [
    "# <a name ='link4'>**Central Limit Theorem (CLT)**</a>"
   ]
  },
  {
   "cell_type": "markdown",
   "metadata": {
    "id": "OR4np-4-7wYV"
   },
   "source": [
    "\n",
    "Central Limit Theorem states that if we independently draw multiple samples from a population, take mean of each sample and plot these (sample means), then the plot will tend to normal distribution as the size of samples increases, **regardless** of the shape of the population distribution."
   ]
  },
  {
   "cell_type": "markdown",
   "metadata": {
    "id": "gM4qSiJA9gyw"
   },
   "source": [
    "### Let's watch CLT in action using a python simulation"
   ]
  },
  {
   "cell_type": "markdown",
   "metadata": {
    "id": "SsVFapIY5ecG"
   },
   "source": [
    "#### Here is a Uniform Distribution (which is most definitely *not Normal*)"
   ]
  },
  {
   "cell_type": "code",
   "execution_count": null,
   "metadata": {
    "colab": {
     "base_uri": "https://localhost:8080/",
     "height": 295
    },
    "id": "zZiQ6_o49jJ1",
    "outputId": "fdf8e3ad-1e63-40fa-e51d-e9ae64c3bd79"
   },
   "outputs": [],
   "source": [
    "# importing the required function\n",
    "from scipy.stats import uniform\n",
    "\n",
    "# setting the seed for reproducibility\n",
    "np.random.seed(1)\n",
    "# creating a uniform distribution population of size 100000\n",
    "uniform_pop = uniform.rvs(0, 10, size=100000)\n",
    "# visualizing the uniform distribution\n",
    "plt.hist(uniform_pop)\n",
    "plt.title(\"Uniform Distribution Population\")\n",
    "plt.xlabel(\"X~U(0,10)\")\n",
    "plt.ylabel(\"Count\")\n",
    "plt.show()"
   ]
  },
  {
   "cell_type": "markdown",
   "metadata": {
    "id": "LtW83GM76Pt2"
   },
   "source": [
    "#### Let's create a sampling distribution from this population (sample size=5, number of samples = 500)\n",
    "\n",
    "*   draw a sample of size 5, so n=5, we draw 5 independent observations\n",
    "*   get the mean of these 5 observations, i.e - sample mean\n",
    "*   repeat the above 2 steps 500 times, so that we get 500 sample means, where n=5 \n",
    "\n",
    "Now, let's observe the shape of this sampling distribution."
   ]
  },
  {
   "cell_type": "code",
   "execution_count": null,
   "metadata": {
    "colab": {
     "base_uri": "https://localhost:8080/",
     "height": 399
    },
    "id": "DtWQjYryEdXF",
    "outputId": "2cf7741b-c385-4a9d-bc78-49c498d6c0f6"
   },
   "outputs": [],
   "source": [
    "# set the seed for reproducibility\n",
    "np.random.seed(1)\n",
    "# set the sample size to 5\n",
    "n = 5\n",
    "# list to store sample means\n",
    "sample_means = []\n",
    "# iterate the loop to draw multiple samples\n",
    "for j in range(500):\n",
    "    # draw a sample of size n\n",
    "    sample = np.random.choice(uniform_pop, size=n)\n",
    "    # calculate the sample mean\n",
    "    sample_mean = np.mean(sample)\n",
    "    # append the sample mean to the sample_means list\n",
    "    sample_means.append(sample_mean)\n",
    "# plot the histogram of sample means\n",
    "sns.displot(sample_means, kde=True)\n",
    "plt.title(\"Distribution of Sample Means for n = \" + str(n))\n",
    "plt.xlabel(\"sample mean\")\n",
    "plt.ylabel(\"count\")\n",
    "plt.show()"
   ]
  },
  {
   "cell_type": "markdown",
   "metadata": {
    "id": "goyjqvoUizdv"
   },
   "source": [
    "#### Let's create another sampling distribution from this population, increase the sample size to 15 (n=15)"
   ]
  },
  {
   "cell_type": "code",
   "execution_count": null,
   "metadata": {
    "colab": {
     "base_uri": "https://localhost:8080/",
     "height": 399
    },
    "id": "36ySksRci4Xb",
    "outputId": "c79a5584-13c9-49ab-94d3-960adebbf2ab"
   },
   "outputs": [],
   "source": [
    "# set the seed for reproducibility\n",
    "np.random.seed(1)\n",
    "# set the sample size to 15\n",
    "n = 15\n",
    "# list to store sample means\n",
    "sample_means = []\n",
    "# iterate the loop to draw multiple samples\n",
    "for j in range(500):\n",
    "    # draw a sample of size n\n",
    "    sample = np.random.choice(uniform_pop, size=n)\n",
    "    # calculate the sample mean\n",
    "    sample_mean = np.mean(sample)\n",
    "    # append the sample mean to the sample_means list\n",
    "    sample_means.append(sample_mean)\n",
    "# plot the histogram of sample means\n",
    "sns.displot(sample_means, kde=True)\n",
    "plt.title(\"Distribution of Sample Means for n = \" + str(n))\n",
    "plt.xlabel(\"sample mean\")\n",
    "plt.ylabel(\"count\")\n",
    "plt.show()"
   ]
  },
  {
   "cell_type": "markdown",
   "metadata": {
    "id": "nH0FJMhWi4zz"
   },
   "source": [
    "#### Increase the sample size to 30 (n=30)"
   ]
  },
  {
   "cell_type": "code",
   "execution_count": null,
   "metadata": {
    "colab": {
     "base_uri": "https://localhost:8080/",
     "height": 399
    },
    "id": "nr-ZrUJSi9Z_",
    "outputId": "d7377ab7-5398-480d-d1b1-5600b362486a"
   },
   "outputs": [],
   "source": [
    "# set the seed for reproducibility\n",
    "np.random.seed(1)\n",
    "# set the sample size to 30\n",
    "n = 30\n",
    "# list to store sample means\n",
    "sample_means = []\n",
    "# iterate the loop to draw multiple samples\n",
    "for j in range(500):\n",
    "    # draw a sample of size n\n",
    "    sample = np.random.choice(uniform_pop, size=n)\n",
    "    # calculate the sample mean\n",
    "    sample_mean = np.mean(sample)\n",
    "    # append the sample mean to the sample_means list\n",
    "    sample_means.append(sample_mean)\n",
    "# plot the histogram of sample means\n",
    "sns.displot(sample_means, kde=True)\n",
    "plt.title(\"Distribution of Sample Means for n = \" + str(n))\n",
    "plt.xlabel(\"sample mean\")\n",
    "plt.ylabel(\"count\")\n",
    "plt.show()"
   ]
  },
  {
   "cell_type": "markdown",
   "metadata": {
    "id": "ln4X8CrZjFSq"
   },
   "source": [
    "#### Increase the sample size to 50 (n=50)"
   ]
  },
  {
   "cell_type": "code",
   "execution_count": null,
   "metadata": {
    "colab": {
     "base_uri": "https://localhost:8080/",
     "height": 399
    },
    "id": "RYlXhL8wjMaI",
    "outputId": "4b3615b6-e88f-41ce-b0eb-f35ccdb1d551"
   },
   "outputs": [],
   "source": [
    "# set the seed for reproducibility\n",
    "np.random.seed(1)\n",
    "# set the sample size to 50\n",
    "n = 50\n",
    "# iterate the loop to draw multiple samples\n",
    "for j in range(500):\n",
    "    # draw a sample of size n\n",
    "    sample = np.random.choice(uniform_pop, size=n)\n",
    "    # calculate the sample mean\n",
    "    sample_mean = np.mean(sample)\n",
    "    # append the sample mean to the sample_means list\n",
    "    sample_means.append(sample_mean)\n",
    "# plot the histogram of sample means\n",
    "sns.displot(sample_means, kde=True)\n",
    "plt.title(\"Distribution of Sample Means for n = \" + str(n))\n",
    "plt.xlabel(\"sample mean\")\n",
    "plt.ylabel(\"count\")\n",
    "plt.show()"
   ]
  },
  {
   "cell_type": "markdown",
   "metadata": {
    "id": "SaYwY7B3Zpv1"
   },
   "source": [
    "#### Insight\n",
    "\n",
    "* Observe how the sampling distribution moves closer to normality as the sample size increases."
   ]
  },
  {
   "cell_type": "markdown",
   "metadata": {
    "id": "LWHSy5jjP0xD"
   },
   "source": [
    "#### When the population distribution is Normal"
   ]
  },
  {
   "cell_type": "code",
   "execution_count": null,
   "metadata": {
    "colab": {
     "base_uri": "https://localhost:8080/",
     "height": 295
    },
    "id": "bC2GvAeaP-86",
    "outputId": "fe3cbc9f-ae44-44e5-f85e-47182cdfeb90"
   },
   "outputs": [],
   "source": [
    "# import the required function\n",
    "from scipy.stats import norm\n",
    "\n",
    "# set the seed for reproducibility\n",
    "np.random.seed(1)\n",
    "# create a normal distribution population of size 100000\n",
    "normal_pop = norm.rvs(0, 1, size=100000)\n",
    "# visualize the normal distribution\n",
    "plt.hist(normal_pop, 200)\n",
    "plt.title(\"Normal Distribution Population\")\n",
    "plt.xlabel(\"X~N(0,1)\")\n",
    "plt.ylabel(\"Count\")\n",
    "plt.show()"
   ]
  },
  {
   "cell_type": "markdown",
   "metadata": {
    "id": "rPHuWBf7RoZt"
   },
   "source": [
    "#### Let's create a sampling distribution from this population (sample size=5, number of samples = 500)\n",
    "\n",
    "*   draw a sample of size 5, so n=5, we draw 5 independent observations\n",
    "*   get the mean of these 5 observations, i.e - sample mean\n",
    "*   repeat the above 2 steps 500 times, so that we get 500 sample means, where n=5 \n",
    "\n",
    "Now, let's observe the shape of this sampling distribution."
   ]
  },
  {
   "cell_type": "code",
   "execution_count": null,
   "metadata": {
    "colab": {
     "base_uri": "https://localhost:8080/",
     "height": 399
    },
    "id": "-qIhsAKpRx78",
    "outputId": "8a6b3c82-041a-4b4a-f0d1-83f41a58f111"
   },
   "outputs": [],
   "source": [
    "# set the seed for reproducibility\n",
    "np.random.seed(1)\n",
    "# set the sample size to 5\n",
    "n = 5\n",
    "# list to store sample means\n",
    "sample_means = []\n",
    "# iterate the loop to draw multiple samples\n",
    "for j in range(500):\n",
    "  # draw a sample of size n\n",
    "  sample = np.random.choice(normal_pop, size = n)\n",
    "  # calculate the sample mean\n",
    "  sample_mean = np.mean(sample)\n",
    "  # append the sample mean to the sample_means list\n",
    "  sample_means.append(sample_mean)\n",
    "# plot the histogram of sample means\n",
    "sns.displot(sample_means, kde = True)\n",
    "plt.title('Distribution of Sample Means for n = ' + str(n))\n",
    "plt.xlabel('sample mean')\n",
    "plt.ylabel('count')\n",
    "plt.show()\n"
   ]
  },
  {
   "cell_type": "markdown",
   "metadata": {
    "id": "xgFr0CjNuY2v"
   },
   "source": [
    "#### Insight\n",
    "\n",
    "* When the population distribution is Normal, sampling distribution is close to normal for even the smaller sampling sizes like n = 5"
   ]
  },
  {
   "cell_type": "markdown",
   "metadata": {
    "id": "RAkc-zmbSHpm"
   },
   "source": [
    "#### Let's Check Sampling Distribution for Sample Size n = 15"
   ]
  },
  {
   "cell_type": "code",
   "execution_count": null,
   "metadata": {
    "colab": {
     "base_uri": "https://localhost:8080/",
     "height": 399
    },
    "id": "0mxqDqtxSWbS",
    "outputId": "059d48b2-a594-4758-afc8-7638c338f8d8"
   },
   "outputs": [],
   "source": [
    "# set the seed for reproducibility\n",
    "np.random.seed(1)\n",
    "# set the sample size to 15\n",
    "n = 15\n",
    "# list to store sample means\n",
    "sample_means = []\n",
    "# iterate the loop to draw multiple samples\n",
    "for j in range(500):\n",
    "    # draw a sample of size n\n",
    "    sample = np.random.choice(normal_pop, size=n)\n",
    "    # calculate the sample mean\n",
    "    sample_mean = np.mean(sample)\n",
    "    # append the sample mean to the sample_means list\n",
    "    sample_means.append(sample_mean)\n",
    "# plot the histogram of sample means\n",
    "sns.displot(sample_means, kde=True)\n",
    "plt.title(\"Distribution of Sample Means for n = \" + str(n))\n",
    "plt.xlabel(\"sample mean\")\n",
    "plt.ylabel(\"count\")\n",
    "plt.show()"
   ]
  },
  {
   "cell_type": "markdown",
   "metadata": {
    "id": "PCINqfCvSPQC"
   },
   "source": [
    "#### Sampling Distribution when Sample Size n = 30\n",
    "\n"
   ]
  },
  {
   "cell_type": "code",
   "execution_count": null,
   "metadata": {
    "colab": {
     "base_uri": "https://localhost:8080/",
     "height": 399
    },
    "id": "VeQ3lV82SYJg",
    "outputId": "958531be-1427-4fc3-e114-679d7faba021"
   },
   "outputs": [],
   "source": [
    "# set the seed for reproducibility\n",
    "np.random.seed(1)\n",
    "# set the sample size to 30\n",
    "n = 30\n",
    "# list to store sample means\n",
    "sample_means = []\n",
    "# iterate the loop to draw multiple samples\n",
    "for j in range(500):\n",
    "    # draw a sample of size n\n",
    "    sample = np.random.choice(normal_pop, size=n)\n",
    "    # calculate the sample mean\n",
    "    sample_mean = np.mean(sample)\n",
    "    # append the sample mean to the sample_means list\n",
    "    sample_means.append(sample_mean)\n",
    "# plot the histogram of sample means\n",
    "sns.displot(sample_means, kde=True)\n",
    "plt.title(\"Distribution of Sample Means for n = \" + str(n))\n",
    "plt.xlabel(\"sample mean\")\n",
    "plt.ylabel(\"count\")\n",
    "plt.show()"
   ]
  },
  {
   "cell_type": "markdown",
   "metadata": {
    "id": "aLboVk0OUHYV"
   },
   "source": [
    "#### Let's see if CLT works if the population distribution is Exponential Distribution (which again is clearly *not Normal*)"
   ]
  },
  {
   "cell_type": "code",
   "execution_count": null,
   "metadata": {
    "colab": {
     "base_uri": "https://localhost:8080/",
     "height": 295
    },
    "id": "t5_HrfJTUbvu",
    "outputId": "d3965a85-2492-46df-cda8-0d7a0b68f839"
   },
   "outputs": [],
   "source": [
    "# import the required function\n",
    "from scipy.stats import expon\n",
    "\n",
    "# set the seed for reproducibility\n",
    "np.random.seed(1)\n",
    "# create a exponential distribution population of size 100000\n",
    "exp_pop = expon.rvs(size=100000)\n",
    "# visualize the exponential distribution\n",
    "plt.hist(exp_pop, 200)\n",
    "plt.title(\"Exponential Distribution Population\")\n",
    "plt.xlabel(\"X~Exp(1)\")\n",
    "plt.ylabel(\"Count\")\n",
    "plt.show()"
   ]
  },
  {
   "cell_type": "markdown",
   "metadata": {
    "id": "_oWLilV16xuC"
   },
   "source": [
    "#### Sampling Distribution for Sample Size n = 5"
   ]
  },
  {
   "cell_type": "code",
   "execution_count": null,
   "metadata": {
    "colab": {
     "base_uri": "https://localhost:8080/",
     "height": 397
    },
    "id": "XJ0a2wfvV5Br",
    "outputId": "efc9d897-322e-40e6-f3cc-87f366e12c33"
   },
   "outputs": [],
   "source": [
    "# set the seed for reproducibility\n",
    "np.random.seed(1)\n",
    "# set the sample size to 5\n",
    "n = 5\n",
    "# list to store sample means\n",
    "sample_means = []\n",
    "# iterate the loop to draw multiple samples\n",
    "for j in range(500):\n",
    "  # draw a sample of size n\n",
    "  sample = np.random.choice(exp_pop, size = n)\n",
    "  # calculate the sample mean\n",
    "  sample_mean = np.mean(sample)\n",
    "  # append the sample mean to the sample_means list\n",
    "  sample_means.append(sample_mean)\n",
    "# plot the histogram of sample means\n",
    "sns.displot(sample_means, kde = True)\n",
    "plt.title('Distribution of Sample Means for n = ' + str(n))\n",
    "plt.xlabel('sample mean')\n",
    "plt.ylabel('count')\n",
    "plt.show()\n"
   ]
  },
  {
   "cell_type": "markdown",
   "metadata": {
    "id": "jPjvBapqTcGv"
   },
   "source": [
    "#### Sampling Distribution for Sample Size - 15"
   ]
  },
  {
   "cell_type": "code",
   "execution_count": null,
   "metadata": {
    "colab": {
     "base_uri": "https://localhost:8080/",
     "height": 399
    },
    "id": "M9TIms81TqbU",
    "outputId": "8e216410-56ae-4c17-9db1-e01f3928b031"
   },
   "outputs": [],
   "source": [
    "# set the seed for reproducibility\n",
    "np.random.seed(1)\n",
    "# set the sample size to 15\n",
    "n = 15\n",
    "# list to store sample means\n",
    "sample_means = []\n",
    "# iterate the loop to draw multiple samples\n",
    "for j in range(500):\n",
    "    # draw a sample of size n\n",
    "    sample = np.random.choice(exp_pop, size=n)\n",
    "    # calculate the sample mean\n",
    "    sample_mean = np.mean(sample)\n",
    "    # append the sample mean to the sample_means list\n",
    "    sample_means.append(sample_mean)\n",
    "# plot the histogram of sample means\n",
    "sns.displot(sample_means, kde=True)\n",
    "plt.title(\"Distribution of Sample Means for n = \" + str(n))\n",
    "plt.xlabel(\"sample mean\")\n",
    "plt.ylabel(\"count\")\n",
    "plt.show()"
   ]
  },
  {
   "cell_type": "markdown",
   "metadata": {
    "id": "NbrG-i54TdBx"
   },
   "source": [
    "#### Sampling Distribution for Sample Size - 30"
   ]
  },
  {
   "cell_type": "code",
   "execution_count": null,
   "metadata": {
    "colab": {
     "base_uri": "https://localhost:8080/",
     "height": 399
    },
    "id": "be78vz_aTrXZ",
    "outputId": "0828696e-f04a-4f12-e48f-cfbc7d26b8c0"
   },
   "outputs": [],
   "source": [
    "# set the seed for reproducibility\n",
    "np.random.seed(1)\n",
    "# set the sample size to 30\n",
    "n = 30\n",
    "# list to store sample means\n",
    "sample_means = []\n",
    "# iterate the loop to draw multiple samples\n",
    "for j in range(500):\n",
    "    # draw a sample of size n\n",
    "    sample = np.random.choice(exp_pop, size=n)\n",
    "    # calculate the sample mean\n",
    "    sample_mean = np.mean(sample)\n",
    "    # append the sample mean to the sample_means list\n",
    "    sample_means.append(sample_mean)\n",
    "# plot the histogram of sample means\n",
    "sns.displot(sample_means, kde=True)\n",
    "plt.title(\"Distribution of Sample Means for n = \" + str(n))\n",
    "plt.xlabel(\"sample mean\")\n",
    "plt.ylabel(\"count\")\n",
    "plt.show()"
   ]
  },
  {
   "cell_type": "markdown",
   "metadata": {
    "id": "S6mIIDZDTjvN"
   },
   "source": [
    "#### Sampling Distribution for Sample Size - 50"
   ]
  },
  {
   "cell_type": "code",
   "execution_count": null,
   "metadata": {
    "colab": {
     "base_uri": "https://localhost:8080/",
     "height": 399
    },
    "id": "CHpJ8HS7TsQD",
    "outputId": "58b53922-23c5-4830-a43e-75bc8ce95de4"
   },
   "outputs": [],
   "source": [
    "# set the seed for reproducibility\n",
    "np.random.seed(1)\n",
    "# set the sample size to 50\n",
    "n = 50\n",
    "# list to store sample means\n",
    "sample_means = []\n",
    "# iterate the loop to draw multiple samples\n",
    "for j in range(500):\n",
    "    # draw a sample of size n\n",
    "    sample = np.random.choice(exp_pop, size=n)\n",
    "    # calculate the sample mean\n",
    "    sample_mean = np.mean(sample)\n",
    "    # append the sample mean to the sample_means list\n",
    "    sample_means.append(sample_mean)\n",
    "# plot the histogram of sample means\n",
    "sns.displot(sample_means, kde=True)\n",
    "plt.title(\"Distribution of Sample Means for n = \" + str(n))\n",
    "plt.xlabel(\"sample mean\")\n",
    "plt.ylabel(\"count\")\n",
    "plt.show()"
   ]
  },
  {
   "cell_type": "markdown",
   "metadata": {
    "id": "fAFrfa06WJVt"
   },
   "source": [
    "### Key Takeaway\n",
    "\n",
    "* We have tried different distributions to simulate the fundamental idea of CLT. We can clearly see that no matter what the shape of the population distribution is, the plot of samples means approximately tends to normal distribution as sample size increases."
   ]
  },
  {
   "cell_type": "markdown",
   "metadata": {
    "id": "MGnJNPy8Gt21"
   },
   "source": [
    "# <a name='link5'>**Point Estimation**</a>"
   ]
  },
  {
   "cell_type": "markdown",
   "metadata": {
    "id": "BBYCZHjAG8uU"
   },
   "source": [
    "#### Let's see how population mean is estimated by the sample mean\n",
    "\n",
    "A non-profit organization sampled the files of the local forest department to come up with the following amounts (in thousands of dollars) of damages for 10 wildfire incidents:\n",
    "\n",
    "120, 55, 60, 10, 8, 150, 44, 58, 62, 123\n",
    "\n",
    "What is the estimate of the average amount of damage in wildfires, in that area?"
   ]
  },
  {
   "cell_type": "code",
   "execution_count": null,
   "metadata": {
    "colab": {
     "base_uri": "https://localhost:8080/"
    },
    "id": "l_EWV2kfM3BN",
    "outputId": "ecc82e4e-b2a0-44e6-fa64-c31580d8b437"
   },
   "outputs": [],
   "source": [
    "# get the sample data\n",
    "sample = np.array([120, 55, 60, 10, 8, 150, 44, 58, 62, 123])\n",
    "\n",
    "# find the mean of the sample\n",
    "x_bar = np.mean(sample)\n",
    "x_bar"
   ]
  },
  {
   "cell_type": "markdown",
   "metadata": {
    "id": "IoxDKLYnNhi_"
   },
   "source": [
    "#### Insight\n",
    "* The estimate of the average amount of damages in wildfires in that area is $69000."
   ]
  },
  {
   "cell_type": "markdown",
   "metadata": {
    "id": "_6dYoBAwjuyU"
   },
   "source": [
    "Usually  point  estimate  of  an  unknown  population  parameter  is  the  corresponding  sample statistic. \n",
    "\n",
    "For example:\n",
    "\n",
    "a. Population mean μ is estimated by sample mean x̅.\n",
    "\n",
    "b. Population median is estimated by sample median x̃.\n",
    "\n",
    "c. Population proportion of success π is estimated by sample proportion of success p"
   ]
  },
  {
   "cell_type": "markdown",
   "metadata": {
    "id": "wspseWak5upg"
   },
   "source": [
    "# <a name='link6'>**Confidence Interval**</a>"
   ]
  },
  {
   "cell_type": "markdown",
   "metadata": {
    "id": "Q-m7is9X8Zkg"
   },
   "source": [
    "#### **Let's see how confidence interval is constructed for the population mean when std dev is known**\n",
    "\n",
    "It is rarely the case when you know the population standard deviation and not the mean. However, it may not be as unlikely an assumption as it seems. For a tight manufacturing process which is in place for a long time, the variability in the process may be controlled, but with small changes in temperature or humidity, the mean may change.\n",
    "\n",
    "\n",
    "Let's construct the confidence interval for an example where the population mean is unknown and the standard deviation is known.\n",
    "\n",
    "\n",
    "\n",
    "The caffeine content (in mg) was examined for a random sample of 50 cups of black coffee dispensed by a new coffee machine. The mean of the sample is found to be 110 mg. It is known that the standard deviation from all the machines of that manufacturer is 7 mg. Construct a 95% confidence interval for μ, the mean caffeine content for cups dispensed by the machine.\n",
    "\n",
    "\n",
    "\n"
   ]
  },
  {
   "cell_type": "code",
   "execution_count": null,
   "metadata": {
    "colab": {
     "base_uri": "https://localhost:8080/"
    },
    "id": "eMAb8UKT9J5T",
    "outputId": "ccf9f89a-1585-46bd-f81e-1ce2b1121ea0"
   },
   "outputs": [],
   "source": [
    "# import the required function\n",
    "from scipy.stats import norm\n",
    "\n",
    "# set the values of sample mean and sigma\n",
    "x_bar, sigma = 110, 7\n",
    "\n",
    "# set the value of sample size\n",
    "n = 50\n",
    "\n",
    "# construct the confidence interval\n",
    "np.round(norm.interval(0.95, loc=x_bar, scale=sigma / np.sqrt(n)), 2)"
   ]
  },
  {
   "cell_type": "markdown",
   "metadata": {
    "id": "Wg8lB_hy--tZ"
   },
   "source": [
    "#### Insight\n",
    "* 95% of the time, the mean caffeine content for cups of coffee dispensed by the machine will be between 108.06 mg and 111.94 mg."
   ]
  },
  {
   "cell_type": "markdown",
   "metadata": {
    "id": "Vp65z-lXGYTs"
   },
   "source": [
    "#### **Let's see how confidence interval is constructed for the population mean when std dev is unknown**\n",
    "\n",
    "The example discussed above is based on the assumption that the population standard deviation is known. However, in the majority of cases that assumption will not be satisfied.\n",
    "\n",
    "When we do not know the population standard deviation, it can be estimated from the sample. In this case, the sample mean follows Student's t distribution with (n-1) degrees of freedom. \n",
    "\n",
    "Just like the normal distribution, t-distribution is also very useful in statistical inference. It is a symmetric distribution around 0. For a very large d.f., t distribution is almost identical to standard normal distribution.The parameter of t-distribution is known as degrees of freedom.\n",
    "\n",
    "Below is the graph of t-distribution for various degrees of freedom(k). We can notice that the distribution approximates to normal as the value of k inceases."
   ]
  },
  {
   "cell_type": "code",
   "execution_count": null,
   "metadata": {
    "colab": {
     "base_uri": "https://localhost:8080/",
     "height": 729
    },
    "id": "HjZtvt2YMK0Y",
    "outputId": "7c593841-767a-4750-8619-834a33b5554f"
   },
   "outputs": [],
   "source": [
    "# import the required function\n",
    "from scipy.stats import t\n",
    "from scipy.stats import norm\n",
    "\n",
    "# set the values for x\n",
    "x = np.linspace(-3, 3, 100)\n",
    "\n",
    "# plot the t distribution for different values of k\n",
    "fig, axes = plt.subplots(2, 3, sharex=False, sharey=False, figsize=(15, 10))\n",
    "axes = axes.ravel()\n",
    "for i, k in zip(range(6), [1, 2, 3, 5, 10, 30]):\n",
    "    ax = axes[i]\n",
    "    ax.plot(x, t.pdf(x, df=k), color=\"blue\", label=\"t dist\")\n",
    "    ax.plot(x, norm.pdf(x), color=\"red\", label=\"normal dist\")\n",
    "    ax.set_title(\"t-distribution for k={0}\".format(k))\n",
    "    ax.legend(loc=\"upper right\", fontsize=10)\n",
    "plt.tight_layout()"
   ]
  },
  {
   "cell_type": "markdown",
   "metadata": {
    "id": "qZwvXTdwR4Ne"
   },
   "source": [
    "Let's use the t-distribution to construct the confidence interval for the mean when statndard deviation is unknown.\n",
    "\n",
    "The caffeine content (in mg) was examined for a random sample of 50 cups of black coffee dispensed by a new machine. The mean of the sample is found to be 110 mg and the sample standard deviation is estimated to be 7 mg. Construct a 95% confidence interval for μ, the mean caffeine content for cups dispensed by the machine."
   ]
  },
  {
   "cell_type": "code",
   "execution_count": null,
   "metadata": {
    "colab": {
     "base_uri": "https://localhost:8080/"
    },
    "id": "aOQK53ojSGfE",
    "outputId": "b7352d32-e4cf-46d0-9963-6a24766cf5f7"
   },
   "outputs": [],
   "source": [
    "# import the required function\n",
    "from scipy.stats import t\n",
    "\n",
    "# set the values of sample mean and sample standard deviation\n",
    "x_bar, s = 110, 7\n",
    "\n",
    "# set the value of sample size and degrees of freedom\n",
    "n = 50\n",
    "k = n - 1\n",
    "\n",
    "# construct the confidence interval\n",
    "np.round(t.interval(0.95, df=k, loc=x_bar, scale=s / np.sqrt(n)), 2)"
   ]
  },
  {
   "cell_type": "markdown",
   "metadata": {
    "id": "7dnKJdoTS3nb"
   },
   "source": [
    "#### Insight\n",
    "* 95% of the time, the mean caffeine content for cups of coffee dispensed by the machine will be between 108.01 mg and 111.99 mg."
   ]
  },
  {
   "cell_type": "markdown",
   "metadata": {
    "id": "mesRClXhTWiL"
   },
   "source": [
    "#### Key Takeaways\n",
    "\n",
    "* The confidence interval for population mean can be constructed for both cases when the population standard deviation is known and when it is unknown. The latter case is more common which demands application of t-distribution with appropriate degrees of freedom.\n",
    "\n",
    "\n",
    "* The general approach to construction of confidence interval is to use the appropriate sample statistic to estimate the population parameter and use the proper percentile point of the sampling distribution."
   ]
  }
 ],
 "metadata": {
  "colab": {
   "collapsed_sections": [],
   "name": "Notebook Week1.ipynb",
   "provenance": []
  },
  "kernelspec": {
   "display_name": "Python 3 (ipykernel)",
   "language": "python",
   "name": "python3"
  },
  "language_info": {
   "codemirror_mode": {
    "name": "ipython",
    "version": 3
   },
   "file_extension": ".py",
   "mimetype": "text/x-python",
   "name": "python",
   "nbconvert_exporter": "python",
   "pygments_lexer": "ipython3",
   "version": "3.8.8"
  }
 },
 "nbformat": 4,
 "nbformat_minor": 1
}
